{
 "cells": [
  {
   "cell_type": "code",
   "execution_count": null,
   "id": "0445204d",
   "metadata": {},
   "outputs": [],
   "source": [
    "from PySSE import SSEstar\n",
    "import astropy.units as u\n",
    "import numpy as np"
   ]
  },
  {
   "cell_type": "code",
   "execution_count": null,
   "id": "8a599920",
   "metadata": {},
   "outputs": [
    {
     "name": "stdout",
     "output_type": "stream",
     "text": [
      "Help on class SSEstar in module PySSE:\n",
      "\n",
      "class SSEstar(builtins.object)\n",
      " |  SSEstar(M, tevo, Z=0.02, neta=0.5, bwind=0.0, hewind=0.5, sigma=190.0, ifflag=0, wdflag=1, bhflag=0, nsflag=1, mxns=3.0, pts1=0.05, pts2=0.01, pts3=0.02, returnall=False, **kwargs)\n",
      " |  \n",
      " |  Class to evolve a star using SSE (Single Star Evolution) code.\n",
      " |  \n",
      " |  Explanation of the formulae and parameters can be found in \n",
      " |      https://ui.adsabs.harvard.edu/abs/2000MNRAS.315..543H/abstract\n",
      " |  \n",
      " |  Original SSE code found here:\n",
      " |      https://ui.adsabs.harvard.edu/abs/2013ascl.soft03015H/abstract\n",
      " |  \n",
      " |  Parameters:\n",
      " |  ----------\n",
      " |  \n",
      " |  M: float or astropy mass quantity\n",
      " |      Initial mass of the star in solar masses.\n",
      " |      Assumed to be in units of Msun if supplied as float.\n",
      " |  tevo: float or astropy time quantity\n",
      " |      Time for which to evolve the star.\n",
      " |      Assumed to be in units of Myr if supplied as float.\n",
      " |  \n",
      " |  Optional Parameters:\n",
      " |  -------------------\n",
      " |  \n",
      " |  Z: float (default = 0.02)\n",
      " |      Initial TOTAL metallicity of the star.\n",
      " |  neta: float (default = 0.5)\n",
      " |      Reimers mass-loss coefficient.\n",
      " |  bwind: float (default = 0.0)\n",
      " |      Binary enhanced mass loss parameter.\n",
      " |  hewind: float (default = 0.5)\n",
      " |      Helium star mass loss parameter.\n",
      " |  sigma: float of astropy speed quantity (default = 190.0 km/s)\n",
      " |      Dispersion of the Maxwellion supernova kick velocity distribution.\n",
      " |  ifflag: int (default = 0)\n",
      " |      If 1, uses WD IFMR of HPE, 1995, MNRAS, 272, 800\n",
      " |  wdflag: int (default = 1)\n",
      " |      If 1, uses modified-Mestel cooling for WDs\n",
      " |  bhflag: int (default = 0)\n",
      " |      If 1, allows velocity kick at BH formation\n",
      " |  nsflag: int (default = 1)\n",
      " |      If 1, takes NS/BH mass from Belczynski et al. 2002, ApJ, 572, 407\n",
      " |  mxns: float or astropy mass quantity (default = 3.0 Msun)\n",
      " |      Maximum neutron star mass.\n",
      " |  pts1 : float (default = 0.05)\n",
      " |      Reciprocal of number of timesteps used for MS phase\n",
      " |  pts2 : float (default = 0.01)\n",
      " |      Reciprocal of number of timesteps used for GB/CHeB/AGB/HeGB/phases\n",
      " |  pts3 : float (default = 0.02)\n",
      " |      Reciprocal of number of timesteps used for HG/HeMS phases\n",
      " |  returnall: bool (default = False)\n",
      " |      If True, returns all the timesteps of the star evolution.\n",
      " |      If False, returns only the final state of the star.\n",
      " |  \n",
      " |  Attributes:\n",
      " |  ----------\n",
      " |  time: astropy time quantity\n",
      " |      Age of the star since zero age main sequence (ZAMS).\n",
      " |  type: astropy dimensionless quantity\n",
      " |      Type of the star at the current time.\n",
      " |  Mo: astropy mass quantity\n",
      " |      Initial mass of the star\n",
      " |  mass: astropy mass quantity\n",
      " |      Mass of the star at the current time\n",
      " |  Lum: astropy luminosity quantity\n",
      " |      Luminosity of the star at the current time in solar luminosities\n",
      " |  radius: astropy length quantity\n",
      " |      Radius of the star at the current time\n",
      " |  Teff: astropy temperature quantity\n",
      " |      Effective temperature of the star at the current time\n",
      " |  mcore: astropy mass quantity\n",
      " |      Mass of the core of the star at the current time\n",
      " |  Rcore: astropy length quantity\n",
      " |      Radius of the core of the star at the current time\n",
      " |  menv: astropy mass quantity\n",
      " |      Mass of the envelope of the star at the current time\n",
      " |  Renv: astropy length quantity\n",
      " |      Radius of the envelope of the star at the current time\n",
      " |  epoch: astropy time quantity\n",
      " |      Epoch of the star at the current time\n",
      " |  spin: astropy speed quantity\n",
      " |      Spin of the star at the current time\n",
      " |  strtype: str\n",
      " |      String representation of the type of the star at the current time\n",
      " |  \n",
      " |  Methods defined here:\n",
      " |  \n",
      " |  __init__(self, M, tevo, Z=0.02, neta=0.5, bwind=0.0, hewind=0.5, sigma=190.0, ifflag=0, wdflag=1, bhflag=0, nsflag=1, mxns=3.0, pts1=0.05, pts2=0.01, pts3=0.02, returnall=False, **kwargs)\n",
      " |      Initialize self.  See help(type(self)) for accurate signature.\n",
      " |  \n",
      " |  printtypes(self, k=array([ 0,  1,  2,  3,  4,  5,  6,  7,  8,  9, 10, 11, 12, 13, 14, 15]))\n",
      " |      Helper function to descibe the types of stars in the SSE code.\n",
      " |      \n",
      " |      Parameters:\n",
      " |      ----------\n",
      " |      k: int or array-like (default = np.arange(0, 10))\n",
      " |          Index or indices of the types to show.\n",
      " |  \n",
      " |  ----------------------------------------------------------------------\n",
      " |  Data descriptors defined here:\n",
      " |  \n",
      " |  __dict__\n",
      " |      dictionary for instance variables (if defined)\n",
      " |  \n",
      " |  __weakref__\n",
      " |      list of weak references to the object (if defined)\n",
      "\n"
     ]
    }
   ],
   "source": [
    "#Print the docstring for the SSEstar class\n",
    "help(SSEstar)"
   ]
  },
  {
   "cell_type": "code",
   "execution_count": 3,
   "id": "38f1adba",
   "metadata": {},
   "outputs": [
    {
     "name": "stdout",
     "output_type": "stream",
     "text": [
      "Luminosity: 0.8274392485618591 solLum\n",
      "Radius: 0.5717180371284485 solRad\n",
      "Effective Temperature: 3.6842703819274902 K\n",
      "Evolutionary Phase: 3.0 = RGB\n",
      "0: Deeply or fully convective low mass MS star\n",
      "1: Main Sequence star\n",
      "2: Hertzsprung Gap\n",
      "3: First Giant Branch\n",
      "4: Core Helium Burning\n",
      "5: First Asymptotic Giant Branch\n",
      "6: Second Asymptotic Giant Branch\n",
      "7: Main Sequence Naked Helium star\n",
      "8: Hertzsprung Gap Naked Helium star\n",
      "9: Giant Branch Naked Helium star\n",
      "10: Helium White Dwarf\n",
      "11: Carbon/Oxygen White Dwarf\n",
      "12: Oxygen/Neon White Dwarf\n",
      "13: Neutron Star\n",
      "14: Black Hole\n",
      "15: Massless Supernova\n"
     ]
    }
   ],
   "source": [
    "#Evolve a 1.0 M_sun star for 12 Gyr\n",
    "star = SSEstar(1.0*u.Msun, 12*u.Gyr)\n",
    "\n",
    "#Print its Luminosity, radius, and effective temperature\n",
    "print('Luminosity:', star.Lum)\n",
    "print('Radius:', star.radius)\n",
    "print('Effective Temperature:', star.Teff)\n",
    "\n",
    "#See what evolutionary phase the star is in, which are stored both as a numerical type and a string\n",
    "print('Evolutionary Phase:', star.type, \"=\", star.strtype)\n",
    "\n",
    "#As a reminder, the phases corresponding to each numerical type can be printed \n",
    "star.printtypes()"
   ]
  },
  {
   "cell_type": "code",
   "execution_count": null,
   "id": "34f97449",
   "metadata": {},
   "outputs": [
    {
     "name": "stdout",
     "output_type": "stream",
     "text": [
      "Phases: [[1.0000000e+00 0.0000000e+00]\n",
      " [2.0000000e+00 1.1003130e+04]\n",
      " [3.0000000e+00 1.1582789e+04]\n",
      " [3.0000000e+00 1.2000000e+04]]\n"
     ]
    }
   ],
   "source": [
    "#The .phases attribute contains the evolutionary phases of the star and when they start, arranged as pairs of (phase, time in Myr)\n",
    "print('Phases:', star.phases)"
   ]
  },
  {
   "cell_type": "code",
   "execution_count": 5,
   "id": "5a84315d",
   "metadata": {},
   "outputs": [
    {
     "name": "stdout",
     "output_type": "stream",
     "text": [
      "Luminosity: 0.3134227693080902 solLum\n",
      "Radius: 0.038286544382572174 solRad\n",
      "Effective Temperature: 3.822482109069824 K\n"
     ]
    }
   ],
   "source": [
    "#Evolve a metal-poor 0.8 M_sun star for 12 Gyr\n",
    "star = SSEstar(0.8*u.Msun, 12*u.Gyr, Z=0.0002)\n",
    "\n",
    "#Print its Luminosity, radius, and effective temperature\n",
    "print('Luminosity:', star.Lum)\n",
    "print('Radius:', star.radius)\n",
    "print('Effective Temperature:', star.Teff)"
   ]
  },
  {
   "cell_type": "code",
   "execution_count": 6,
   "id": "53834306",
   "metadata": {},
   "outputs": [
    {
     "name": "stderr",
     "output_type": "stream",
     "text": [
      "Evolving stars:   0%|          | 0/5 [00:00<?, ?star/s]"
     ]
    },
    {
     "name": "stderr",
     "output_type": "stream",
     "text": [
      "Evolving stars: 100%|██████████| 5/5 [00:00<00:00,  6.29star/s]"
     ]
    },
    {
     "name": "stdout",
     "output_type": "stream",
     "text": [
      "Luminosity: [-0.07474185  0.82743925 -4.029906   -4.3044863  -4.422773  ] solLum\n",
      "Radius: [ 1.7496696e-03  5.7171804e-01 -1.8588949e+00 -1.8650639e+00\n",
      " -1.8712060e+00] solRad\n",
      "Effective Temperature: [3.7437093 3.6842704 3.6852407 3.61968   3.5931795] K\n",
      "Evolutionary stage: ['MS' 'RGB' 'COWD' 'COWD' 'COWD']\n"
     ]
    },
    {
     "name": "stderr",
     "output_type": "stream",
     "text": [
      "\n"
     ]
    }
   ],
   "source": [
    "#Evolve several stars with different masses for 12 Gyr\n",
    "masses = np.arange(0.9, 1.4, 0.1)*u.Msun\n",
    "\n",
    "star = SSEstar(masses, 12*u.Gyr)\n",
    "\n",
    "#Print the luminosity, radius, and effective temperature for each star\n",
    "print('Luminosity:', star.Lum)\n",
    "print('Radius:', star.radius)\n",
    "print('Effective Temperature:', star.Teff)\n",
    "print('Evolutionary stage:', star.strtype)"
   ]
  },
  {
   "cell_type": "code",
   "execution_count": null,
   "id": "0019ee4c",
   "metadata": {},
   "outputs": [],
   "source": [
    "#Evolve a 1.0 M_sun star for 12 Gyr but save all the entire evolution\n",
    "star = SSEstar(1.0*u.Msun, 12*u.Gyr, returnall=True)\n",
    "\n",
    "print('Time:', star.time)\n",
    "print('Luminosity:', star.Lum)\n"
   ]
  },
  {
   "cell_type": "code",
   "execution_count": null,
   "id": "a11fe5e5",
   "metadata": {},
   "outputs": [],
   "source": [
    "#Evolve two stars for 12 Gyr, and save the entire evolution\n",
    "masses = np.array([1.0, 2.0])*u.Msun\n",
    "\n",
    "star = SSEstar(masses, 12*u.Gyr, returnall=True)\n",
    "\n",
    "#Print the luminosity, radius, and effective temperature for each star\n",
    "print('Time:', star.time)\n",
    "print('Luminosity:', star.Lum)"
   ]
  }
 ],
 "metadata": {
  "kernelspec": {
   "display_name": "Python 3",
   "language": "python",
   "name": "python3"
  },
  "language_info": {
   "codemirror_mode": {
    "name": "ipython",
    "version": 3
   },
   "file_extension": ".py",
   "mimetype": "text/x-python",
   "name": "python",
   "nbconvert_exporter": "python",
   "pygments_lexer": "ipython3",
   "version": "3.10.12"
  }
 },
 "nbformat": 4,
 "nbformat_minor": 5
}
